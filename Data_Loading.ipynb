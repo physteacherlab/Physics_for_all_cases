{
 "cells": [
  {
   "cell_type": "markdown",
   "id": "966a3228",
   "metadata": {},
   "source": [
    "# Загрузка данных в Python"
   ]
  },
  {
   "cell_type": "markdown",
   "id": "e2b61407",
   "metadata": {},
   "source": [
    "\n",
    "Работа с экспериментальными данными часто начинается с их загрузки. Данные могут храниться в различных форматах, таких как текстовые файлы, CSV, Excel, базы данных или веб-ресурсы. \n",
    "Python предоставляет множество инструментов для обработки данных, включая библиотеки `pandas`, `numpy` и стандартные модули, такие как `csv` и `json`.\n",
    "\n",
    "В этом разделе мы рассмотрим:\n",
    "1. Загрузку данных из CSV.\n",
    "2. Загрузку данных из текстовых файлов.\n",
    "3. Чтение данных из Excel.\n",
    "4. Загрузку данных с веб-ресурсов.\n",
    "5. Загрузку данных из формата JSON.\n"
   ]
  },
  {
   "cell_type": "markdown",
   "id": "dc948a92",
   "metadata": {},
   "source": [
    "## 1. Загрузка данных из CSV-файлов"
   ]
  },
  {
   "cell_type": "markdown",
   "id": "1016b058",
   "metadata": {},
   "source": [
    "\n",
    "CSV (Comma Separated Values) — это один из самых распространённых форматов для хранения таблиц. Для работы с ним обычно используется библиотека `pandas`.\n",
    "\n",
    "### Пример загрузки данных из CSV\n"
   ]
  },
  {
   "cell_type": "code",
   "execution_count": null,
   "id": "04237988",
   "metadata": {},
   "outputs": [],
   "source": [
    "\n",
    "import pandas as pd\n",
    "\n",
    "# Загрузка данных из CSV\n",
    "data = pd.read_csv('experiment_data.csv')\n",
    "\n",
    "# Просмотр первых пяти строк\n",
    "print(data.head())\n"
   ]
  },
  {
   "cell_type": "markdown",
   "id": "2fdaee7b",
   "metadata": {},
   "source": [
    "\n",
    "### Пояснение\n",
    "- `pd.read_csv()` — функция для загрузки CSV-файлов.\n",
    "- `data.head()` — метод для отображения первых пяти строк таблицы, чтобы проверить корректность загрузки данных.\n",
    "\n",
    "### Дополнительные параметры\n",
    "`read_csv()` поддерживает множество параметров, например:\n",
    "- `sep=','` — позволяет указать разделитель (например, табуляция или точка с запятой).\n",
    "- `header=None` — если у таблицы нет заголовка.\n",
    "- `usecols=['col1', 'col2']` — позволяет загрузить только определённые столбцы.\n",
    "- `dtype={'col1': float}` — задаёт типы данных для колонок.\n"
   ]
  },
  {
   "cell_type": "markdown",
   "id": "722c9d77",
   "metadata": {},
   "source": [
    "## 2. Загрузка данных из текстового файла"
   ]
  },
  {
   "cell_type": "markdown",
   "id": "815cc64e",
   "metadata": {},
   "source": [
    "\n",
    "Текстовые файлы часто имеют произвольный формат. Их можно загружать с помощью стандартных инструментов Python или с использованием `numpy`.\n",
    "\n",
    "### Пример с использованием `numpy`\n"
   ]
  },
  {
   "cell_type": "code",
   "execution_count": null,
   "id": "d36871d1",
   "metadata": {},
   "outputs": [],
   "source": [
    "\n",
    "import numpy as np\n",
    "\n",
    "# Загрузка данных из текстового файла\n",
    "data = np.loadtxt('experiment_data.txt', delimiter=',')\n",
    "\n",
    "print(data)\n"
   ]
  },
  {
   "cell_type": "markdown",
   "id": "5c652c7a",
   "metadata": {},
   "source": [
    "\n",
    "### Пояснение\n",
    "- `np.loadtxt()` — функция для загрузки числовых данных из текстового файла.\n",
    "- `delimiter=','` — разделитель между значениями.\n",
    "\n",
    "### Ограничения\n",
    "Если файл содержит смешанные типы данных (например, текст и числа), используйте `pandas` или стандартный модуль `csv`.\n"
   ]
  },
  {
   "cell_type": "markdown",
   "id": "41583009",
   "metadata": {},
   "source": [
    "## 3. Чтение данных из Excel"
   ]
  },
  {
   "cell_type": "markdown",
   "id": "762fec09",
   "metadata": {},
   "source": [
    "\n",
    "Excel — популярный формат для хранения таблиц. Библиотека `pandas` позволяет читать данные из Excel-файлов.\n",
    "\n",
    "### Пример загрузки данных\n"
   ]
  },
  {
   "cell_type": "code",
   "execution_count": null,
   "id": "5fc46d8d",
   "metadata": {},
   "outputs": [],
   "source": [
    "\n",
    "# Загрузка данных из Excel\n",
    "data = pd.read_excel('experiment_data.xlsx', sheet_name='Sheet1')\n",
    "\n",
    "# Просмотр первых строк\n",
    "print(data.head())\n"
   ]
  },
  {
   "cell_type": "markdown",
   "id": "a4ca6a9a",
   "metadata": {},
   "source": [
    "\n",
    "### Пояснение\n",
    "- `sheet_name` — позволяет указать имя листа для загрузки данных.\n",
    "- Для работы с Excel требуется установка дополнительной библиотеки, например, `openpyxl` или `xlrd`.\n"
   ]
  },
  {
   "cell_type": "markdown",
   "id": "6f82e4aa",
   "metadata": {},
   "source": [
    "## 4. Загрузка данных с веб-ресурсов"
   ]
  },
  {
   "cell_type": "markdown",
   "id": "418a6989",
   "metadata": {},
   "source": [
    "\n",
    "Данные могут быть получены из сети, например, с помощью URL-адреса.\n",
    "\n",
    "### Пример загрузки CSV с URL\n"
   ]
  },
  {
   "cell_type": "code",
   "execution_count": null,
   "id": "9a037248",
   "metadata": {},
   "outputs": [],
   "source": [
    "\n",
    "# Загрузка данных из URL\n",
    "url = 'https://example.com/data.csv'\n",
    "data = pd.read_csv(url)\n",
    "\n",
    "print(data.head())\n"
   ]
  },
  {
   "cell_type": "markdown",
   "id": "0ff693c1",
   "metadata": {},
   "source": [
    "\n",
    "### Пояснение\n",
    "- `pd.read_csv()` может загружать данные напрямую по URL.\n",
    "\n",
    "### Дополнительные библиотеки\n",
    "Для работы с данными из сложных веб-страниц можно использовать `requests` или `beautifulsoup4`.\n"
   ]
  },
  {
   "cell_type": "markdown",
   "id": "e072851f",
   "metadata": {},
   "source": [
    "## 5. Загрузка данных из JSON"
   ]
  },
  {
   "cell_type": "markdown",
   "id": "848437f5",
   "metadata": {},
   "source": [
    "\n",
    "JSON (JavaScript Object Notation) — формат, широко используемый для передачи данных.\n",
    "\n",
    "### Пример загрузки JSON с использованием `pandas`\n"
   ]
  },
  {
   "cell_type": "code",
   "execution_count": null,
   "id": "4beeb1b5",
   "metadata": {},
   "outputs": [],
   "source": [
    "\n",
    "# Загрузка данных из JSON\n",
    "data = pd.read_json('experiment_data.json')\n",
    "\n",
    "print(data.head())\n"
   ]
  },
  {
   "cell_type": "markdown",
   "id": "a03aa438",
   "metadata": {},
   "source": [
    "\n",
    "### Пояснение\n",
    "- JSON данные удобно читать, если они имеют структуру таблицы.\n",
    "- Для сложных иерархий можно использовать модуль `json`.\n",
    "\n",
    "### Пример с использованием модуля `json`\n"
   ]
  },
  {
   "cell_type": "code",
   "execution_count": null,
   "id": "7c55cf6a",
   "metadata": {},
   "outputs": [],
   "source": [
    "\n",
    "import json\n",
    "\n",
    "# Чтение JSON\n",
    "with open('experiment_data.json', 'r') as file:\n",
    "    data = json.load(file)\n",
    "\n",
    "print(data)\n"
   ]
  }
 ],
 "metadata": {},
 "nbformat": 4,
 "nbformat_minor": 5
}
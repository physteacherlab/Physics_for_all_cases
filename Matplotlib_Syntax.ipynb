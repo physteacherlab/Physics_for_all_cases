{
 "cells": [
  {
   "cell_type": "markdown",
   "id": "8e32d910",
   "metadata": {},
   "source": [
    "# Синтаксис библиотеки Matplotlib"
   ]
  },
  {
   "cell_type": "markdown",
   "id": "2d486fcc",
   "metadata": {},
   "source": [
    "\n",
    "`Matplotlib` — это мощная библиотека для визуализации данных в Python. Она позволяет создавать как простые графики, так и сложные визуализации, подходящие для научного анализа.\n",
    "\n",
    "Основные компоненты библиотеки включают:\n",
    "- **pyplot**: модуль, предоставляющий простые функции для создания графиков.\n",
    "- **Figure**: объект, представляющий собой всё окно или область визуализации.\n",
    "- **Axes**: объект, представляющий координатную систему или один график.\n"
   ]
  },
  {
   "cell_type": "markdown",
   "id": "a1c79151",
   "metadata": {},
   "source": [
    "## 1. Основной синтаксис"
   ]
  },
  {
   "cell_type": "code",
   "execution_count": null,
   "id": "7a0e9fbd",
   "metadata": {},
   "outputs": [],
   "source": [
    "\n",
    "import matplotlib.pyplot as plt\n",
    "\n",
    "# Данные\n",
    "x = [1, 2, 3, 4, 5]\n",
    "y = [1, 4, 9, 16, 25]\n",
    "\n",
    "# Построение графика\n",
    "plt.plot(x, y)  # Линия, соединяющая точки\n",
    "plt.title('Пример графика')  # Заголовок\n",
    "plt.xlabel('X')  # Подпись оси X\n",
    "plt.ylabel('Y')  # Подпись оси Y\n",
    "plt.grid(True)  # Включение сетки\n",
    "plt.show()  # Отображение графика\n"
   ]
  },
  {
   "cell_type": "markdown",
   "id": "493fb8e0",
   "metadata": {},
   "source": [
    "## 2. Настройка графиков"
   ]
  },
  {
   "cell_type": "markdown",
   "id": "14eeefbf",
   "metadata": {},
   "source": [
    "### Форматирование линий"
   ]
  },
  {
   "cell_type": "code",
   "execution_count": null,
   "id": "27509ca7",
   "metadata": {},
   "outputs": [],
   "source": [
    "\n",
    "plt.plot(x, y, color='blue', linestyle='--', marker='s', markersize=8, linewidth=2)\n",
    "plt.title('Форматированный график')\n",
    "plt.show()\n"
   ]
  },
  {
   "cell_type": "markdown",
   "id": "9968d731",
   "metadata": {},
   "source": [
    "### Настройка осей"
   ]
  },
  {
   "cell_type": "code",
   "execution_count": null,
   "id": "d51d3611",
   "metadata": {},
   "outputs": [],
   "source": [
    "\n",
    "plt.plot(x, y)\n",
    "plt.xlim(0, 6)  # Пределы оси X\n",
    "plt.ylim(0, 30)  # Пределы оси Y\n",
    "plt.title('Настройка осей')\n",
    "plt.show()\n"
   ]
  },
  {
   "cell_type": "markdown",
   "id": "318bf35e",
   "metadata": {},
   "source": [
    "### Добавление сетки и легенды"
   ]
  },
  {
   "cell_type": "code",
   "execution_count": null,
   "id": "81448a9e",
   "metadata": {},
   "outputs": [],
   "source": [
    "\n",
    "plt.plot(x, y, label='Квадраты')\n",
    "plt.grid(True, which='both', linestyle='--', linewidth=0.5)\n",
    "plt.legend(loc='upper left')  # Расположение легенды\n",
    "plt.title('График с сеткой и легендой')\n",
    "plt.show()\n"
   ]
  },
  {
   "cell_type": "markdown",
   "id": "117e8b93",
   "metadata": {},
   "source": [
    "## 3. Построение нескольких графиков"
   ]
  },
  {
   "cell_type": "code",
   "execution_count": null,
   "id": "a6c4b764",
   "metadata": {},
   "outputs": [],
   "source": [
    "\n",
    "plt.plot(x, y, label='Квадраты', color='blue')\n",
    "plt.plot(x, [i**3 for i in x], label='Кубы', color='green')\n",
    "plt.legend()\n",
    "plt.title('Несколько графиков')\n",
    "plt.show()\n"
   ]
  },
  {
   "cell_type": "markdown",
   "id": "36e88896",
   "metadata": {},
   "source": [
    "## 4. Построение графиков с помощью Subplots"
   ]
  },
  {
   "cell_type": "code",
   "execution_count": null,
   "id": "b8d813f4",
   "metadata": {},
   "outputs": [],
   "source": [
    "\n",
    "fig, axs = plt.subplots(2, 1, figsize=(8, 6))\n",
    "\n",
    "# Первый график\n",
    "axs[0].plot(x, y, color='red', label='Квадраты')\n",
    "axs[0].set_title('Первый график')\n",
    "axs[0].legend()\n",
    "\n",
    "# Второй график\n",
    "axs[1].plot(x, [i**3 for i in x], color='blue', label='Кубы')\n",
    "axs[1].set_title('Второй график')\n",
    "axs[1].legend()\n",
    "\n",
    "plt.tight_layout()\n",
    "plt.show()\n"
   ]
  },
  {
   "cell_type": "markdown",
   "id": "7d6fc151",
   "metadata": {},
   "source": [
    "## 5. Построение графиков с ошибками"
   ]
  },
  {
   "cell_type": "code",
   "execution_count": null,
   "id": "c12b59f5",
   "metadata": {},
   "outputs": [],
   "source": [
    "\n",
    "errors = [0.5, 0.7, 0.2, 0.4, 0.6]\n",
    "plt.errorbar(x, y, yerr=errors, fmt='o', color='black', ecolor='red', label='Данные с ошибками')\n",
    "plt.legend()\n",
    "plt.title('График с ошибками')\n",
    "plt.show()\n"
   ]
  },
  {
   "cell_type": "markdown",
   "id": "f8a9a9ce",
   "metadata": {},
   "source": [
    "## 6. Использование логарифмических осей"
   ]
  },
  {
   "cell_type": "code",
   "execution_count": null,
   "id": "0ad0d846",
   "metadata": {},
   "outputs": [],
   "source": [
    "\n",
    "plt.plot(x, y)\n",
    "plt.xscale('log')\n",
    "plt.yscale('log')\n",
    "plt.title('Логарифмические оси')\n",
    "plt.show()\n"
   ]
  },
  {
   "cell_type": "markdown",
   "id": "faf2363f",
   "metadata": {},
   "source": [
    "## 7. Сохранение графиков"
   ]
  },
  {
   "cell_type": "code",
   "execution_count": null,
   "id": "5cf5e4ba",
   "metadata": {},
   "outputs": [],
   "source": [
    "\n",
    "plt.plot(x, y)\n",
    "plt.title('График для сохранения')\n",
    "plt.savefig('my_graph.png', dpi=300)\n",
    "plt.show()\n"
   ]
  },
  {
   "cell_type": "markdown",
   "id": "dc5fa18a",
   "metadata": {},
   "source": [
    "## 8. Объектно-ориентированный подход"
   ]
  },
  {
   "cell_type": "code",
   "execution_count": null,
   "id": "519756c5",
   "metadata": {},
   "outputs": [],
   "source": [
    "\n",
    "fig, ax = plt.subplots()\n",
    "ax.plot(x, y)\n",
    "ax.set_title('Заголовок')\n",
    "ax.set_xlabel('X')\n",
    "ax.set_ylabel('Y')\n",
    "plt.show()\n"
   ]
  }
 ],
 "metadata": {},
 "nbformat": 4,
 "nbformat_minor": 5
}